{
 "cells": [
  {
   "cell_type": "code",
   "execution_count": 2,
   "id": "430dab9d",
   "metadata": {},
   "outputs": [
    {
     "name": "stdout",
     "output_type": "stream",
     "text": [
      "\u001b[1m10219/10219\u001b[0m \u001b[32m━━━━━━━━━━━━━━━━━━━━\u001b[0m\u001b[37m\u001b[0m \u001b[1m6s\u001b[0m 546us/step\n"
     ]
    }
   ],
   "source": [
    "import streamlit as st\n",
    "import numpy as np\n",
    "import matplotlib.pyplot as plt\n",
    "from sklearn.datasets import make_moons, make_circles, make_classification\n",
    "from sklearn.model_selection import train_test_split\n",
    "from tensorflow.keras.models import Sequential\n",
    "from tensorflow.keras.layers import Dense, Input\n",
    "from tensorflow.keras.optimizers import SGD\n",
    "\n",
    "# Generate datasets\n",
    "datasets = {\n",
    "    \"Moons\": make_moons(n_samples=1000, noise=0.3, random_state=42),\n",
    "    \"Circles\": make_circles(n_samples=1000, noise=0.2, factor=0.5, random_state=42),\n",
    "    \"Classification\": make_classification(n_samples=1000, n_features=2, n_informative=2, n_redundant=0, random_state=42)\n",
    "}\n",
    "\n",
    "# User inputs\n",
    "st.title(\"TensorFlow Playground\")\n",
    "dataset_name = st.selectbox(\"Choose a dataset\", list(datasets.keys()))\n",
    "learning_rate = st.slider(\"Learning Rate\", 0.001, 1.0, 0.01)\n",
    "activation_function = st.selectbox(\"Activation Function\", [\"relu\", \"tanh\", \"sigmoid\"])\n",
    "train_test_ratio = st.slider(\"Train-Test Ratio\", 0.1, 0.9, 0.8)\n",
    "batch_size = st.slider(\"Batch Size\", 1, 100, 32)\n",
    "\n",
    "# Get the selected dataset\n",
    "X, y = datasets[dataset_name]\n",
    "\n",
    "# Split the data\n",
    "X_train, X_test, y_train, y_test = train_test_split(X, y, test_size=1-train_test_ratio, random_state=42)\n",
    "\n",
    "# Build the model\n",
    "model = Sequential([\n",
    "    Input(shape=(2,)),  # Define the input shape in the Input layer\n",
    "    Dense(8, activation=activation_function),\n",
    "    Dense(4, activation=activation_function),\n",
    "    Dense(1, activation='sigmoid')\n",
    "])\n",
    "optimizer = SGD(learning_rate=learning_rate)\n",
    "model.compile(optimizer=optimizer, loss='binary_crossentropy', metrics=['accuracy'])\n",
    "\n",
    "# Train the model\n",
    "history = model.fit(X_train, y_train, epochs=100, batch_size=batch_size, validation_data=(X_test, y_test), verbose=0)\n",
    "\n",
    "# Plot decision boundary\n",
    "def plot_decision_boundary(model, X, y):\n",
    "    x_min, x_max = X[:, 0].min() - 1, X[:, 0].max() + 1\n",
    "    y_min, y_max = X[:, 1].min() - 1, X[:, 1].max() + 1\n",
    "    xx, yy = np.meshgrid(np.arange(x_min, x_max, 0.01),\n",
    "                         np.arange(y_min, y_max, 0.01))\n",
    "    Z = model.predict(np.c_[xx.ravel(), yy.ravel()])\n",
    "    Z = Z.reshape(xx.shape)\n",
    "    plt.contourf(xx, yy, Z, alpha=0.8)\n",
    "    plt.scatter(X[:, 0], X[:, 1], c=y, edgecolors='k', marker='o')\n",
    "    plt.title(\"Decision Boundary\")\n",
    "    st.pyplot(plt.gcf())\n",
    "\n",
    "# Plot training history\n",
    "def plot_training_history(history):\n",
    "    plt.figure()\n",
    "    plt.plot(history.history['loss'], label='Train Loss')\n",
    "    plt.plot(history.history['val_loss'], label='Test Loss')\n",
    "    plt.title(\"Training and Testing Loss\")\n",
    "    plt.xlabel(\"Epochs\")\n",
    "    plt.ylabel(\"Loss\")\n",
    "    plt.legend()\n",
    "    st.pyplot(plt.gcf())\n",
    "\n",
    "# Display the plots\n",
    "st.subheader(\"Decision Boundary\")\n",
    "plot_decision_boundary(model, X, y)\n",
    "st.subheader(\"Training History\")\n",
    "plot_training_history(history)\n"
   ]
  },
  {
   "cell_type": "code",
   "execution_count": null,
   "id": "bcef3b98",
   "metadata": {},
   "outputs": [],
   "source": []
  }
 ],
 "metadata": {
  "kernelspec": {
   "display_name": "Python 3 (ipykernel)",
   "language": "python",
   "name": "python3"
  },
  "language_info": {
   "codemirror_mode": {
    "name": "ipython",
    "version": 3
   },
   "file_extension": ".py",
   "mimetype": "text/x-python",
   "name": "python",
   "nbconvert_exporter": "python",
   "pygments_lexer": "ipython3",
   "version": "3.9.12"
  }
 },
 "nbformat": 4,
 "nbformat_minor": 5
}
